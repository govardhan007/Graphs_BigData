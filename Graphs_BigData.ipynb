{
  "nbformat": 4,
  "nbformat_minor": 0,
  "metadata": {
    "kernelspec": {
      "display_name": "Python 3",
      "language": "python",
      "name": "python3"
    },
    "language_info": {
      "codemirror_mode": {
        "name": "ipython",
        "version": 3
      },
      "file_extension": ".py",
      "mimetype": "text/x-python",
      "name": "python",
      "nbconvert_exporter": "python",
      "pygments_lexer": "ipython3",
      "version": "3.7.4"
    },
    "colab": {
      "provenance": []
    }
  },
  "cells": [
    {
      "cell_type": "markdown",
      "metadata": {
        "id": "SOB3fhJi5CF3"
      },
      "source": [
        "Name: Govardhan Digumurthi\n"
      ]
    },
    {
      "cell_type": "markdown",
      "metadata": {
        "id": "91nsaml9y1xj"
      },
      "source": [
        "# CS 5683 - Big Data Analytics\n",
        "## Assignment - 5: Graphs"
      ]
    },
    {
      "cell_type": "code",
      "metadata": {
        "id": "sA3Nb36Iy1xk"
      },
      "source": [
        "import networkx as nx"
      ],
      "execution_count": null,
      "outputs": []
    },
    {
      "cell_type": "markdown",
      "metadata": {
        "id": "HnT2BlHRy1xo"
      },
      "source": [
        "### Assignment Total: 10 points (3% of final)"
      ]
    },
    {
      "cell_type": "markdown",
      "metadata": {
        "id": "1pAd5oTty1xp"
      },
      "source": [
        "This is a self-learning assignment for graphs. You will explore a python package called networkx to find some properties of a given graph\n",
        "\n",
        "NetworkX documentation: https://networkx.org/documentation/stable/reference/index.html"
      ]
    },
    {
      "cell_type": "code",
      "metadata": {
        "id": "3clOJng8y1xr",
        "outputId": "61e42f7e-a1e2-4f82-ffb6-55701381a822",
        "colab": {
          "base_uri": "https://localhost:8080/",
          "height": 34
        }
      },
      "source": [
        "from google.colab import drive\n",
        "drive.mount('/content/drive')"
      ],
      "execution_count": null,
      "outputs": [
        {
          "output_type": "stream",
          "text": [
            "Drive already mounted at /content/drive; to attempt to forcibly remount, call drive.mount(\"/content/drive\", force_remount=True).\n"
          ],
          "name": "stdout"
        }
      ]
    },
    {
      "cell_type": "markdown",
      "metadata": {
        "id": "WLL_SbAjy1xv"
      },
      "source": [
        "##### Use the social network data 'soc-Epinions1.txt' given in Canvas"
      ]
    },
    {
      "cell_type": "code",
      "metadata": {
        "id": "Vdu4ASKty1xv"
      },
      "source": [
        "# NOTE: The data is given as an edgelist\n",
        "# Meaning: each edge (node1,node2) in one line of the input file\n",
        "input_data = '/content/drive/My Drive/CS5683/soc-Epinions1.txt'#'soc-Epinions1.txt'"
      ],
      "execution_count": null,
      "outputs": []
    },
    {
      "cell_type": "code",
      "metadata": {
        "id": "D94aBh5my1xy",
        "outputId": "91f47ece-cd66-4003-fdb9-a455f3cf32bf",
        "colab": {
          "base_uri": "https://localhost:8080/",
          "height": 119
        }
      },
      "source": [
        "# Load the data as a directed graph\n",
        "# Note: networkx read_edgelist will read the graph as undirected graph\n",
        "\n",
        "g = nx.read_edgelist(input_data, nodetype=int, create_using= nx.DiGraph())\n",
        "print(nx.info(g))"
      ],
      "execution_count": null,
      "outputs": [
        {
          "output_type": "stream",
          "text": [
            "Name: \n",
            "Type: DiGraph\n",
            "Number of nodes: 75879\n",
            "Number of edges: 508837\n",
            "Average in degree:   6.7059\n",
            "Average out degree:   6.7059\n"
          ],
          "name": "stdout"
        }
      ]
    },
    {
      "cell_type": "markdown",
      "metadata": {
        "id": "LvsCV3-vy1x1"
      },
      "source": [
        "##### Print the following basic properties of the given graph"
      ]
    },
    {
      "cell_type": "code",
      "metadata": {
        "id": "E0_bxqDly1x1",
        "outputId": "caad2a0b-9fc3-4684-8a85-abf93dde7fa9",
        "colab": {
          "base_uri": "https://localhost:8080/",
          "height": 51
        }
      },
      "source": [
        "# Print the number of nodes and edges in the graph here (1 Point)\n",
        "print(g.number_of_nodes())\n",
        "print(g.number_of_edges())"
      ],
      "execution_count": null,
      "outputs": [
        {
          "output_type": "stream",
          "text": [
            "75879\n",
            "508837\n"
          ],
          "name": "stdout"
        }
      ]
    },
    {
      "cell_type": "code",
      "metadata": {
        "scrolled": true,
        "id": "RgtrkgIDy1x4",
        "outputId": "b3056dc8-ebfc-47f1-bca4-4d51aae94bd1",
        "colab": {
          "base_uri": "https://localhost:8080/",
          "height": 34
        }
      },
      "source": [
        "# Print the number of connected components here (1 Point)\n",
        "# NOTE: There is a networkx package for this\n",
        "ug = g.to_undirected()\n",
        "nx.algorithms.components.number_connected_components(ug)"
      ],
      "execution_count": null,
      "outputs": [
        {
          "output_type": "execute_result",
          "data": {
            "text/plain": [
              "2"
            ]
          },
          "metadata": {
            "tags": []
          },
          "execution_count": 6
        }
      ]
    },
    {
      "cell_type": "code",
      "metadata": {
        "id": "NybwL_kKy1x7",
        "outputId": "9d3ff6ff-a6fc-4412-ad05-0cecba3a0e2f",
        "colab": {
          "base_uri": "https://localhost:8080/",
          "height": 51
        }
      },
      "source": [
        "# Print the number of nodes in each component here(1 Point)\n",
        "count = 0\n",
        "for x in list(nx.connected_components(ug)):\n",
        "  count += 1\n",
        "  print('Number of nodes in the component' + str(count) + ' : ' + str(len(x)))"
      ],
      "execution_count": null,
      "outputs": [
        {
          "output_type": "stream",
          "text": [
            "Number of nodes in the component1 : 75877\n",
            "Number of nodes in the component2 : 2\n"
          ],
          "name": "stdout"
        }
      ]
    },
    {
      "cell_type": "code",
      "metadata": {
        "id": "h-KTi-eiy1yA",
        "outputId": "0e3e0794-c824-4ab5-a721-94cfa45d9f79",
        "colab": {
          "base_uri": "https://localhost:8080/",
          "height": 34
        }
      },
      "source": [
        "# Delete all nodes from the smallest component in the graph\n",
        "# And, print the number of node again here (1 Point)\n",
        "C = min(nx.connected_components(ug), key=len)\n",
        "for a in C:\n",
        "  g.remove_node(a)\n",
        "print(g.number_of_nodes())"
      ],
      "execution_count": null,
      "outputs": [
        {
          "output_type": "stream",
          "text": [
            "75877\n"
          ],
          "name": "stdout"
        }
      ]
    },
    {
      "cell_type": "code",
      "metadata": {
        "id": "RrFM156xy1yE",
        "outputId": "37e4750c-a5e4-4c47-ce17-2550ab59c483",
        "colab": {
          "base_uri": "https://localhost:8080/",
          "height": 312
        }
      },
      "source": [
        "# Plot the degree distribution of the graph with a line graph here (4 Points)\n",
        "# NOTE: You have to plot both in-degree and out-degree distribution in the same plot\n",
        "# REFERENCE: https://networkx.org/documentation/stable/auto_examples/drawing/plot_degree_histogram.html\n",
        "# You have to get both in_degree and out_degree\n",
        "# You have to use line plot instead of a histogram\n",
        "import collections\n",
        "import matplotlib.pyplot as plt\n",
        "\n",
        "degree_sequence = sorted([d for n, d in g.in_degree()], reverse=True)  # degree sequence\n",
        "degreeCount = collections.Counter(degree_sequence)\n",
        "indeg, incnt = zip(*degreeCount.items())\n",
        "fig, ax = plt.subplots()\n",
        "plt.plot(indeg, incnt, color=\"b\",  label=\"indegree\")\n",
        "\n",
        "degree_sequence_out = sorted([d for n, d in g.out_degree()], reverse=True)  # degree sequence\n",
        "degreeCount_out = collections.Counter(degree_sequence_out)\n",
        "outdeg, outcnt = zip(*degreeCount_out.items())\n",
        "plt.plot(outdeg, outcnt, color=\"r\",  label=\"outdegree\")\n",
        "plt.title(\"Degree Histogram\")\n",
        "plt.ylabel(\"Count\")\n",
        "plt.xlabel(\"Degree\")\n",
        "plt.legend(loc=\"upper right\")"
      ],
      "execution_count": null,
      "outputs": [
        {
          "output_type": "execute_result",
          "data": {
            "text/plain": [
              "<matplotlib.legend.Legend at 0x7f6610420588>"
            ]
          },
          "metadata": {
            "tags": []
          },
          "execution_count": 9
        },
        {
          "output_type": "display_data",
          "data": {
            "image/png": "[encoded data removed]",
            "text/plain": [
              "<Figure size 432x288 with 1 Axes>"
            ]
          },
          "metadata": {
            "tags": [],
            "needs_background": "light"
          }
        }
      ]
    },
    {
      "cell_type": "code",
      "metadata": {
        "id": "QWCWCzo4y1yI",
        "outputId": "297e6904-af70-4f65-801b-5b74321dcd0a",
        "colab": {
          "base_uri": "https://localhost:8080/",
          "height": 187
        }
      },
      "source": [
        "# Find pagerank of all nodes in the given graph (2 Points)\n",
        "# And, print top 10 nodes based on pagerank and their corresponding pagerank scores\n",
        "pr = nx.pagerank(g)\n",
        "sorted(pr.items(), key=lambda x: x[1], reverse=True)[:10]"
      ],
      "execution_count": null,
      "outputs": [
        {
          "output_type": "execute_result",
          "data": {
            "text/plain": [
              "[(18, 0.004657231788608864),\n",
              " (737, 0.0028807122172918418),\n",
              " (1719, 0.002154581431371963),\n",
              " (790, 0.002121539825820732),\n",
              " (118, 0.002058844652824279),\n",
              " (136, 0.002035196636433736),\n",
              " (143, 0.002003692743449366),\n",
              " (40, 0.0015924031130032901),\n",
              " (1619, 0.0015263447209551528),\n",
              " (4415, 0.001478191526616753)]"
            ]
          },
          "metadata": {
            "tags": []
          },
          "execution_count": 10
        }
      ]
    }
  ]
}